{
 "cells": [
  {
   "cell_type": "code",
   "execution_count": 7,
   "id": "dbe6c11c",
   "metadata": {},
   "outputs": [],
   "source": [
    "import sys\n",
    "import os\n",
    "\n",
    "# Go up one level to where \"DataAPI\" is a package\n",
    "sys.path.append(os.path.abspath(\"..\"))\n"
   ]
  },
  {
   "cell_type": "code",
   "execution_count": 9,
   "id": "12100cbc",
   "metadata": {},
   "outputs": [
    {
     "name": "stdout",
     "output_type": "stream",
     "text": [
      "Created role: admin\n",
      "Created role: project_manager\n",
      "Created role: annotator\n",
      "Created role: reviewer\n"
     ]
    }
   ],
   "source": [
    "from DataAPI import db"
   ]
  },
  {
   "cell_type": "code",
   "execution_count": 15,
   "id": "018e2f68",
   "metadata": {},
   "outputs": [],
   "source": [
    "db_manager = db.manager\n",
    "export_manager = db.export\n",
    "project_manager = db.project\n",
    "annotation_manager = db.annotation\n",
    "user_manager = db.user"
   ]
  },
  {
   "cell_type": "code",
   "execution_count": null,
   "id": "0d606480",
   "metadata": {},
   "outputs": [],
   "source": [
    "def create_user(\n",
    "        self,\n",
    "        username: str,\n",
    "        email: str,\n",
    "        password: str,\n",
    "        first_name: str,\n",
    "        last_name: str,\n",
    "        role_name: str = \"annotator\",\n",
    "    )"
   ]
  },
  {
   "cell_type": "code",
   "execution_count": 18,
   "id": "721c5b5d",
   "metadata": {},
   "outputs": [
    {
     "ename": "ValueError",
     "evalue": "Username 'admin' already exists",
     "output_type": "error",
     "traceback": [
      "\u001b[0;31m---------------------------------------------------------------------------\u001b[0m",
      "\u001b[0;31mValueError\u001b[0m                                Traceback (most recent call last)",
      "Cell \u001b[0;32mIn[18], line 1\u001b[0m\n\u001b[0;32m----> 1\u001b[0m user \u001b[38;5;241m=\u001b[39m \u001b[43muser_manager\u001b[49m\u001b[38;5;241;43m.\u001b[39;49m\u001b[43mcreate_user\u001b[49m\u001b[43m(\u001b[49m\u001b[43musername\u001b[49m\u001b[38;5;241;43m=\u001b[39;49m\u001b[38;5;124;43m\"\u001b[39;49m\u001b[38;5;124;43madmin\u001b[39;49m\u001b[38;5;124;43m\"\u001b[39;49m\u001b[43m,\u001b[49m\u001b[43m \u001b[49m\u001b[43memail\u001b[49m\u001b[38;5;241;43m=\u001b[39;49m\u001b[38;5;124;43m\"\u001b[39;49m\u001b[38;5;124;43madmin@admin.com\u001b[39;49m\u001b[38;5;124;43m\"\u001b[39;49m\u001b[43m,\u001b[49m\u001b[43m \u001b[49m\u001b[43mpassword\u001b[49m\u001b[38;5;241;43m=\u001b[39;49m\u001b[38;5;124;43m\"\u001b[39;49m\u001b[38;5;124;43madmin\u001b[39;49m\u001b[38;5;124;43m\"\u001b[39;49m\u001b[43m,\u001b[49m\u001b[43m \u001b[49m\u001b[43mfirst_name\u001b[49m\u001b[38;5;241;43m=\u001b[39;49m\u001b[38;5;124;43m\"\u001b[39;49m\u001b[38;5;124;43mAdmin\u001b[39;49m\u001b[38;5;124;43m\"\u001b[39;49m\u001b[43m,\u001b[49m\u001b[43m \u001b[49m\u001b[43mlast_name\u001b[49m\u001b[38;5;241;43m=\u001b[39;49m\u001b[38;5;124;43m\"\u001b[39;49m\u001b[38;5;124;43mUser\u001b[39;49m\u001b[38;5;124;43m\"\u001b[39;49m\u001b[43m,\u001b[49m\u001b[43m \u001b[49m\u001b[43mrole_name\u001b[49m\u001b[38;5;241;43m=\u001b[39;49m\u001b[38;5;124;43m\"\u001b[39;49m\u001b[38;5;124;43madmin\u001b[39;49m\u001b[38;5;124;43m\"\u001b[39;49m\u001b[43m)\u001b[49m\n",
      "File \u001b[0;32m~/projects/OpenLabel/OpenLabelBackend/DataAPI/db/user_manager.py:27\u001b[0m, in \u001b[0;36mUserManager.create_user\u001b[0;34m(self, username, email, password, first_name, last_name, role_name)\u001b[0m\n\u001b[1;32m     25\u001b[0m \u001b[38;5;66;03m# Check if username or email already exists\u001b[39;00m\n\u001b[1;32m     26\u001b[0m \u001b[38;5;28;01mif\u001b[39;00m \u001b[38;5;28mself\u001b[39m\u001b[38;5;241m.\u001b[39mdb\u001b[38;5;241m.\u001b[39musers\u001b[38;5;241m.\u001b[39mfind_one({\u001b[38;5;124m\"\u001b[39m\u001b[38;5;124musername\u001b[39m\u001b[38;5;124m\"\u001b[39m: username}):\n\u001b[0;32m---> 27\u001b[0m     \u001b[38;5;28;01mraise\u001b[39;00m \u001b[38;5;167;01mValueError\u001b[39;00m(\u001b[38;5;124mf\u001b[39m\u001b[38;5;124m\"\u001b[39m\u001b[38;5;124mUsername \u001b[39m\u001b[38;5;124m'\u001b[39m\u001b[38;5;132;01m{\u001b[39;00musername\u001b[38;5;132;01m}\u001b[39;00m\u001b[38;5;124m'\u001b[39m\u001b[38;5;124m already exists\u001b[39m\u001b[38;5;124m\"\u001b[39m)\n\u001b[1;32m     29\u001b[0m \u001b[38;5;28;01mif\u001b[39;00m \u001b[38;5;28mself\u001b[39m\u001b[38;5;241m.\u001b[39mdb\u001b[38;5;241m.\u001b[39musers\u001b[38;5;241m.\u001b[39mfind_one({\u001b[38;5;124m\"\u001b[39m\u001b[38;5;124memail\u001b[39m\u001b[38;5;124m\"\u001b[39m: email}):\n\u001b[1;32m     30\u001b[0m     \u001b[38;5;28;01mraise\u001b[39;00m \u001b[38;5;167;01mValueError\u001b[39;00m(\u001b[38;5;124mf\u001b[39m\u001b[38;5;124m\"\u001b[39m\u001b[38;5;124mEmail \u001b[39m\u001b[38;5;124m'\u001b[39m\u001b[38;5;132;01m{\u001b[39;00memail\u001b[38;5;132;01m}\u001b[39;00m\u001b[38;5;124m'\u001b[39m\u001b[38;5;124m already exists\u001b[39m\u001b[38;5;124m\"\u001b[39m)\n",
      "\u001b[0;31mValueError\u001b[0m: Username 'admin' already exists"
     ]
    }
   ],
   "source": [
    "user = user_manager.create_user(username=\"admin\", email=\"admin@admin.com\", password=\"admin\", first_name=\"Admin\", last_name=\"User\", role_name=\"admin\")"
   ]
  },
  {
   "cell_type": "code",
   "execution_count": 20,
   "id": "a16d71f4",
   "metadata": {},
   "outputs": [],
   "source": [
    "login = user_manager.authenticate_user(username=\"admin\", password=\"admin\")"
   ]
  },
  {
   "cell_type": "code",
   "execution_count": 21,
   "id": "c42d2920",
   "metadata": {},
   "outputs": [
    {
     "data": {
      "text/plain": [
       "{'_id': ObjectId('681006882518c62992322b6b'),\n",
       " 'username': 'admin',\n",
       " 'email': 'admin@admin.com',\n",
       " 'password': b'$2b$12$U7jf.1/NnIeFlPVzwVKVbuHVEOG8lZAc75yIHylTQWXwxYxmli76a',\n",
       " 'firstName': 'Admin',\n",
       " 'lastName': 'User',\n",
       " 'roleId': ObjectId('6810021e2518c62992322b67'),\n",
       " 'createdAt': datetime.datetime(2025, 4, 28, 22, 51, 52, 745000),\n",
       " 'lastLogin': None,\n",
       " 'isActive': True}"
      ]
     },
     "execution_count": 21,
     "metadata": {},
     "output_type": "execute_result"
    }
   ],
   "source": [
    "login"
   ]
  },
  {
   "cell_type": "code",
   "execution_count": 16,
   "id": "ddcad433",
   "metadata": {},
   "outputs": [],
   "source": [
    "dbManager = MongoDBManager(\n",
    "    connection_uri=\"localhost:27017\",\n",
    "    database_name=\"test_db\")"
   ]
  },
  {
   "cell_type": "code",
   "execution_count": 17,
   "id": "3f0a79ec",
   "metadata": {},
   "outputs": [
    {
     "data": {
      "text/plain": [
       "<db.db_manager.MongoDBManager at 0x7fbb37160560>"
      ]
     },
     "execution_count": 17,
     "metadata": {},
     "output_type": "execute_result"
    }
   ],
   "source": [
    "dbManager"
   ]
  }
 ],
 "metadata": {
  "kernelspec": {
   "display_name": "base",
   "language": "python",
   "name": "python3"
  },
  "language_info": {
   "codemirror_mode": {
    "name": "ipython",
    "version": 3
   },
   "file_extension": ".py",
   "mimetype": "text/x-python",
   "name": "python",
   "nbconvert_exporter": "python",
   "pygments_lexer": "ipython3",
   "version": "3.12.5"
  }
 },
 "nbformat": 4,
 "nbformat_minor": 5
}
